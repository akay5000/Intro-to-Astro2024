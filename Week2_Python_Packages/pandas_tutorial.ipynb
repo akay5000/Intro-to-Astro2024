{
 "cells": [
  {
   "cell_type": "markdown",
   "metadata": {},
   "source": [
    "# Pandas Tutorial\n",
    "\n",
    "**Tutorial by Ellianna Abrahams, 2021 updates by Isaac Malsky**\n",
    "\n",
    "In addition to being adorable, bamboo-loving bears, **pandas** is a Python library that makes it easy to store and work with large datasets. This notebook will teach you the basics of using pandas."
   ]
  },
  {
   "cell_type": "markdown",
   "metadata": {},
   "source": [
    "![](https://cache.desktopnexus.com/thumbseg/1321/1321509-bigthumbnail.jpg)"
   ]
  },
  {
   "cell_type": "markdown",
   "metadata": {},
   "source": [
    "Over the years many people have been building complex functions in python to allow for analyzing data. These functions can be built into libraries or modules, and there are several that are used across many disciplines. For last week's assignment you worked with numpy, a library containing complex mathematical functions. Today we'll be working with pandas in this tutorial, and matplotlib in the next tutorial. Let's import those libraries here and save them in variables so that we can easily interact with them later."
   ]
  },
  {
   "cell_type": "markdown",
   "metadata": {},
   "source": [
    "### Imports\n",
    "\n",
    "In future notebooks, the following cell will usually be at the top of any code. Generally organizing imports at the top of a notebook makes it easier to remember which libraries you've already imported and follows the guidelines of good coding practice."
   ]
  },
  {
   "cell_type": "code",
   "execution_count": 145,
   "metadata": {},
   "outputs": [],
   "source": [
    "import numpy as np   # Support for arrays and array math\n",
    "import pandas as pd  # The Lesson for today\n",
    "import matplotlib.pyplot as plt"
   ]
  },
  {
   "cell_type": "markdown",
   "metadata": {},
   "source": [
    "## The Basics - Create Data\n",
    "\n",
    "Let's take a look at the 5 most popular baby names in the U.S. in 2018 by. Data was taken from www.ssa.gov."
   ]
  },
  {
   "cell_type": "code",
   "execution_count": 146,
   "metadata": {},
   "outputs": [],
   "source": [
    "# We can write words into python code by surrounding a word or number with quotation marks.\n",
    "# This is called a string, and we have stored our five strings in a list.\n",
    "names = ['Liam', 'Emma', 'Noah', 'Olivia', 'Ava']\n",
    "\n",
    "# Whole numbers are called integers.\n",
    "birth_count = [19837, 18688, 18267, 17921, 14924]\n",
    "\n",
    "# Decimals or fractions are called floats.\n",
    "percentage_of_births = [0.0102, 0.0101, 0.0097, 0.0095, 0.0081]"
   ]
  },
  {
   "cell_type": "code",
   "execution_count": 147,
   "metadata": {},
   "outputs": [
    {
     "name": "stdout",
     "output_type": "stream",
     "text": [
      "<class 'list'>\n"
     ]
    }
   ],
   "source": [
    "print (type(names))"
   ]
  },
  {
   "cell_type": "markdown",
   "metadata": {},
   "source": [
    "Let's store this data in a pandas spreadsheet, called a `DataFrame`. \n",
    "We can't create a dataframe directly from our lists, so we're going to store them in a dictionary, or `dict`."
   ]
  },
  {
   "cell_type": "code",
   "execution_count": 148,
   "metadata": {},
   "outputs": [],
   "source": [
    "data = {'names': names, 'count': birth_count, 'percentage': percentage_of_births}"
   ]
  },
  {
   "cell_type": "code",
   "execution_count": 149,
   "metadata": {},
   "outputs": [
    {
     "name": "stdout",
     "output_type": "stream",
     "text": [
      "<class 'dict'>\n",
      "{'names': ['Liam', 'Emma', 'Noah', 'Olivia', 'Ava'], 'count': [19837, 18688, 18267, 17921, 14924], 'percentage': [0.0102, 0.0101, 0.0097, 0.0095, 0.0081]}\n"
     ]
    }
   ],
   "source": [
    "print (type(data))\n",
    "print (data)"
   ]
  },
  {
   "cell_type": "markdown",
   "metadata": {},
   "source": [
    "Now we can make a dataframe! Notice how we access the `DataFrame` function in the pandas library by using the variable `pd` that we defined above."
   ]
  },
  {
   "cell_type": "code",
   "execution_count": 150,
   "metadata": {},
   "outputs": [],
   "source": [
    "df = pd.DataFrame(data)"
   ]
  },
  {
   "cell_type": "code",
   "execution_count": 151,
   "metadata": {},
   "outputs": [
    {
     "data": {
      "text/html": [
       "<div>\n",
       "<style scoped>\n",
       "    .dataframe tbody tr th:only-of-type {\n",
       "        vertical-align: middle;\n",
       "    }\n",
       "\n",
       "    .dataframe tbody tr th {\n",
       "        vertical-align: top;\n",
       "    }\n",
       "\n",
       "    .dataframe thead th {\n",
       "        text-align: right;\n",
       "    }\n",
       "</style>\n",
       "<table border=\"1\" class=\"dataframe\">\n",
       "  <thead>\n",
       "    <tr style=\"text-align: right;\">\n",
       "      <th></th>\n",
       "      <th>names</th>\n",
       "      <th>count</th>\n",
       "      <th>percentage</th>\n",
       "    </tr>\n",
       "  </thead>\n",
       "  <tbody>\n",
       "    <tr>\n",
       "      <th>0</th>\n",
       "      <td>Liam</td>\n",
       "      <td>19837</td>\n",
       "      <td>0.0102</td>\n",
       "    </tr>\n",
       "    <tr>\n",
       "      <th>1</th>\n",
       "      <td>Emma</td>\n",
       "      <td>18688</td>\n",
       "      <td>0.0101</td>\n",
       "    </tr>\n",
       "    <tr>\n",
       "      <th>2</th>\n",
       "      <td>Noah</td>\n",
       "      <td>18267</td>\n",
       "      <td>0.0097</td>\n",
       "    </tr>\n",
       "    <tr>\n",
       "      <th>3</th>\n",
       "      <td>Olivia</td>\n",
       "      <td>17921</td>\n",
       "      <td>0.0095</td>\n",
       "    </tr>\n",
       "    <tr>\n",
       "      <th>4</th>\n",
       "      <td>Ava</td>\n",
       "      <td>14924</td>\n",
       "      <td>0.0081</td>\n",
       "    </tr>\n",
       "  </tbody>\n",
       "</table>\n",
       "</div>"
      ],
      "text/plain": [
       "    names  count  percentage\n",
       "0    Liam  19837      0.0102\n",
       "1    Emma  18688      0.0101\n",
       "2    Noah  18267      0.0097\n",
       "3  Olivia  17921      0.0095\n",
       "4     Ava  14924      0.0081"
      ]
     },
     "execution_count": 151,
     "metadata": {},
     "output_type": "execute_result"
    }
   ],
   "source": [
    "# The command .head is returns the first n rows, where n is the value in the parentheses\n",
    "# You can always google commands to see how they are called and how to call them\n",
    "# For example: https://pandas.pydata.org/docs/reference/api/pandas.DataFrame.head.html\n",
    "\n",
    "df.head(5)"
   ]
  },
  {
   "cell_type": "markdown",
   "metadata": {},
   "source": [
    "We can save our dataframe to a csv file so that we can share it with our colleagues. If you want to save it somewhere specific on your computer, you can specify the path inside the string."
   ]
  },
  {
   "cell_type": "code",
   "execution_count": 152,
   "metadata": {},
   "outputs": [],
   "source": [
    "df.to_csv('save_the_pandas.csv')"
   ]
  },
  {
   "cell_type": "code",
   "execution_count": 153,
   "metadata": {},
   "outputs": [],
   "source": [
    "# What do you think the saved file will look like with this?\n",
    "# Take a guess before running it\n",
    "\n",
    "df.to_csv('dataframe.txt', sep='\\t')\n",
    "df.to_csv('dataframe.txt', sep='q')"
   ]
  },
  {
   "cell_type": "markdown",
   "metadata": {},
   "source": [
    "## Data manipulation\n",
    "One of the most helpful aspects of pandas is how it can be used to quickly perform operations on large data sets."
   ]
  },
  {
   "cell_type": "code",
   "execution_count": 154,
   "metadata": {},
   "outputs": [
    {
     "data": {
      "text/html": [
       "<div>\n",
       "<style scoped>\n",
       "    .dataframe tbody tr th:only-of-type {\n",
       "        vertical-align: middle;\n",
       "    }\n",
       "\n",
       "    .dataframe tbody tr th {\n",
       "        vertical-align: top;\n",
       "    }\n",
       "\n",
       "    .dataframe thead th {\n",
       "        text-align: right;\n",
       "    }\n",
       "</style>\n",
       "<table border=\"1\" class=\"dataframe\">\n",
       "  <thead>\n",
       "    <tr style=\"text-align: right;\">\n",
       "      <th></th>\n",
       "      <th>x</th>\n",
       "      <th>y</th>\n",
       "    </tr>\n",
       "  </thead>\n",
       "  <tbody>\n",
       "    <tr>\n",
       "      <th>0</th>\n",
       "      <td>-0.367696</td>\n",
       "      <td>0.228802</td>\n",
       "    </tr>\n",
       "    <tr>\n",
       "      <th>1</th>\n",
       "      <td>-1.624992</td>\n",
       "      <td>-1.279831</td>\n",
       "    </tr>\n",
       "    <tr>\n",
       "      <th>2</th>\n",
       "      <td>-0.638844</td>\n",
       "      <td>1.648069</td>\n",
       "    </tr>\n",
       "    <tr>\n",
       "      <th>3</th>\n",
       "      <td>-0.023175</td>\n",
       "      <td>0.317910</td>\n",
       "    </tr>\n",
       "    <tr>\n",
       "      <th>4</th>\n",
       "      <td>-0.703889</td>\n",
       "      <td>0.669063</td>\n",
       "    </tr>\n",
       "    <tr>\n",
       "      <th>5</th>\n",
       "      <td>-0.194198</td>\n",
       "      <td>0.042415</td>\n",
       "    </tr>\n",
       "    <tr>\n",
       "      <th>6</th>\n",
       "      <td>0.411917</td>\n",
       "      <td>0.008183</td>\n",
       "    </tr>\n",
       "    <tr>\n",
       "      <th>7</th>\n",
       "      <td>0.359053</td>\n",
       "      <td>-0.580152</td>\n",
       "    </tr>\n",
       "    <tr>\n",
       "      <th>8</th>\n",
       "      <td>-0.286444</td>\n",
       "      <td>-0.098991</td>\n",
       "    </tr>\n",
       "    <tr>\n",
       "      <th>9</th>\n",
       "      <td>1.400450</td>\n",
       "      <td>-1.257012</td>\n",
       "    </tr>\n",
       "  </tbody>\n",
       "</table>\n",
       "</div>"
      ],
      "text/plain": [
       "          x         y\n",
       "0 -0.367696  0.228802\n",
       "1 -1.624992 -1.279831\n",
       "2 -0.638844  1.648069\n",
       "3 -0.023175  0.317910\n",
       "4 -0.703889  0.669063\n",
       "5 -0.194198  0.042415\n",
       "6  0.411917  0.008183\n",
       "7  0.359053 -0.580152\n",
       "8 -0.286444 -0.098991\n",
       "9  1.400450 -1.257012"
      ]
     },
     "execution_count": 154,
     "metadata": {},
     "output_type": "execute_result"
    }
   ],
   "source": [
    "# Given a simple dataframe of two columns of values, we can find the sum or\n",
    "# Perform other calculations\n",
    "\n",
    "column1 = np.random.normal(size=10)\n",
    "column2 = np.random.normal(size=10)\n",
    "test_data = {'x': column1, 'y': column2}\n",
    "dataframe = pd.DataFrame(test_data)\n",
    "dataframe.head(10)"
   ]
  },
  {
   "cell_type": "code",
   "execution_count": 155,
   "metadata": {},
   "outputs": [
    {
     "data": {
      "text/html": [
       "<div>\n",
       "<style scoped>\n",
       "    .dataframe tbody tr th:only-of-type {\n",
       "        vertical-align: middle;\n",
       "    }\n",
       "\n",
       "    .dataframe tbody tr th {\n",
       "        vertical-align: top;\n",
       "    }\n",
       "\n",
       "    .dataframe thead th {\n",
       "        text-align: right;\n",
       "    }\n",
       "</style>\n",
       "<table border=\"1\" class=\"dataframe\">\n",
       "  <thead>\n",
       "    <tr style=\"text-align: right;\">\n",
       "      <th></th>\n",
       "      <th>x</th>\n",
       "      <th>y</th>\n",
       "      <th>sums</th>\n",
       "      <th>product</th>\n",
       "    </tr>\n",
       "  </thead>\n",
       "  <tbody>\n",
       "    <tr>\n",
       "      <th>0</th>\n",
       "      <td>-0.367696</td>\n",
       "      <td>0.228802</td>\n",
       "      <td>-0.138894</td>\n",
       "      <td>-0.084129</td>\n",
       "    </tr>\n",
       "    <tr>\n",
       "      <th>1</th>\n",
       "      <td>-1.624992</td>\n",
       "      <td>-1.279831</td>\n",
       "      <td>-2.904823</td>\n",
       "      <td>2.079715</td>\n",
       "    </tr>\n",
       "    <tr>\n",
       "      <th>2</th>\n",
       "      <td>-0.638844</td>\n",
       "      <td>1.648069</td>\n",
       "      <td>1.009224</td>\n",
       "      <td>-1.052859</td>\n",
       "    </tr>\n",
       "    <tr>\n",
       "      <th>3</th>\n",
       "      <td>-0.023175</td>\n",
       "      <td>0.317910</td>\n",
       "      <td>0.294735</td>\n",
       "      <td>-0.007368</td>\n",
       "    </tr>\n",
       "    <tr>\n",
       "      <th>4</th>\n",
       "      <td>-0.703889</td>\n",
       "      <td>0.669063</td>\n",
       "      <td>-0.034826</td>\n",
       "      <td>-0.470947</td>\n",
       "    </tr>\n",
       "    <tr>\n",
       "      <th>5</th>\n",
       "      <td>-0.194198</td>\n",
       "      <td>0.042415</td>\n",
       "      <td>-0.151783</td>\n",
       "      <td>-0.008237</td>\n",
       "    </tr>\n",
       "    <tr>\n",
       "      <th>6</th>\n",
       "      <td>0.411917</td>\n",
       "      <td>0.008183</td>\n",
       "      <td>0.420100</td>\n",
       "      <td>0.003371</td>\n",
       "    </tr>\n",
       "    <tr>\n",
       "      <th>7</th>\n",
       "      <td>0.359053</td>\n",
       "      <td>-0.580152</td>\n",
       "      <td>-0.221099</td>\n",
       "      <td>-0.208305</td>\n",
       "    </tr>\n",
       "    <tr>\n",
       "      <th>8</th>\n",
       "      <td>-0.286444</td>\n",
       "      <td>-0.098991</td>\n",
       "      <td>-0.385435</td>\n",
       "      <td>0.028355</td>\n",
       "    </tr>\n",
       "    <tr>\n",
       "      <th>9</th>\n",
       "      <td>1.400450</td>\n",
       "      <td>-1.257012</td>\n",
       "      <td>0.143438</td>\n",
       "      <td>-1.760383</td>\n",
       "    </tr>\n",
       "  </tbody>\n",
       "</table>\n",
       "</div>"
      ],
      "text/plain": [
       "          x         y      sums   product\n",
       "0 -0.367696  0.228802 -0.138894 -0.084129\n",
       "1 -1.624992 -1.279831 -2.904823  2.079715\n",
       "2 -0.638844  1.648069  1.009224 -1.052859\n",
       "3 -0.023175  0.317910  0.294735 -0.007368\n",
       "4 -0.703889  0.669063 -0.034826 -0.470947\n",
       "5 -0.194198  0.042415 -0.151783 -0.008237\n",
       "6  0.411917  0.008183  0.420100  0.003371\n",
       "7  0.359053 -0.580152 -0.221099 -0.208305\n",
       "8 -0.286444 -0.098991 -0.385435  0.028355\n",
       "9  1.400450 -1.257012  0.143438 -1.760383"
      ]
     },
     "execution_count": 155,
     "metadata": {},
     "output_type": "execute_result"
    }
   ],
   "source": [
    "dataframe['sums'] = dataframe['x'] + dataframe['y']\n",
    "dataframe['product'] = dataframe['x'] * dataframe['y']\n",
    "dataframe.head(10)"
   ]
  },
  {
   "cell_type": "markdown",
   "metadata": {},
   "source": [
    "## The Basics - Get Data"
   ]
  },
  {
   "cell_type": "markdown",
   "metadata": {},
   "source": [
    "Let's say that your research group already has collected data that they've saved in a csv file. You can open csv files from pandas too using the pandas `read_csv()` function."
   ]
  },
  {
   "cell_type": "code",
   "execution_count": 156,
   "metadata": {},
   "outputs": [],
   "source": [
    "# This csv file was created by Hadley Wickham\n",
    "# and is available at https://github.com/hadley/data-baby-names\n",
    "names_df = pd.read_csv('baby-names.csv')"
   ]
  },
  {
   "cell_type": "markdown",
   "metadata": {},
   "source": [
    "There are a few ways you can explore what is in your csv file. For example, you can see what columns are included, you can look at the first few lines, or you can see how many rows, or items, there are in the dataframe."
   ]
  },
  {
   "cell_type": "code",
   "execution_count": 157,
   "metadata": {},
   "outputs": [
    {
     "data": {
      "text/plain": [
       "Index(['year', 'name', 'percent', 'gender'], dtype='object')"
      ]
     },
     "execution_count": 157,
     "metadata": {},
     "output_type": "execute_result"
    }
   ],
   "source": [
    "names_df.columns\n",
    "\n",
    "# Note that the data for this csv file is taken from the US Social Security website. \n",
    "# The SSO has historically assigned a binary gender at birth and is therefore biased in its collection.\n",
    "# It is always important to keep in mind bias that might be included in data collection!"
   ]
  },
  {
   "cell_type": "code",
   "execution_count": 158,
   "metadata": {},
   "outputs": [
    {
     "data": {
      "text/html": [
       "<div>\n",
       "<style scoped>\n",
       "    .dataframe tbody tr th:only-of-type {\n",
       "        vertical-align: middle;\n",
       "    }\n",
       "\n",
       "    .dataframe tbody tr th {\n",
       "        vertical-align: top;\n",
       "    }\n",
       "\n",
       "    .dataframe thead th {\n",
       "        text-align: right;\n",
       "    }\n",
       "</style>\n",
       "<table border=\"1\" class=\"dataframe\">\n",
       "  <thead>\n",
       "    <tr style=\"text-align: right;\">\n",
       "      <th></th>\n",
       "      <th>year</th>\n",
       "      <th>name</th>\n",
       "      <th>percent</th>\n",
       "      <th>gender</th>\n",
       "    </tr>\n",
       "  </thead>\n",
       "  <tbody>\n",
       "    <tr>\n",
       "      <th>0</th>\n",
       "      <td>1880</td>\n",
       "      <td>John</td>\n",
       "      <td>0.081541</td>\n",
       "      <td>boy</td>\n",
       "    </tr>\n",
       "    <tr>\n",
       "      <th>1</th>\n",
       "      <td>1880</td>\n",
       "      <td>William</td>\n",
       "      <td>0.080511</td>\n",
       "      <td>boy</td>\n",
       "    </tr>\n",
       "    <tr>\n",
       "      <th>2</th>\n",
       "      <td>1880</td>\n",
       "      <td>James</td>\n",
       "      <td>0.050057</td>\n",
       "      <td>boy</td>\n",
       "    </tr>\n",
       "    <tr>\n",
       "      <th>3</th>\n",
       "      <td>1880</td>\n",
       "      <td>Charles</td>\n",
       "      <td>0.045167</td>\n",
       "      <td>boy</td>\n",
       "    </tr>\n",
       "    <tr>\n",
       "      <th>4</th>\n",
       "      <td>1880</td>\n",
       "      <td>George</td>\n",
       "      <td>0.043292</td>\n",
       "      <td>boy</td>\n",
       "    </tr>\n",
       "    <tr>\n",
       "      <th>5</th>\n",
       "      <td>1880</td>\n",
       "      <td>Frank</td>\n",
       "      <td>0.027380</td>\n",
       "      <td>boy</td>\n",
       "    </tr>\n",
       "    <tr>\n",
       "      <th>6</th>\n",
       "      <td>1880</td>\n",
       "      <td>Joseph</td>\n",
       "      <td>0.022229</td>\n",
       "      <td>boy</td>\n",
       "    </tr>\n",
       "    <tr>\n",
       "      <th>7</th>\n",
       "      <td>1880</td>\n",
       "      <td>Thomas</td>\n",
       "      <td>0.021401</td>\n",
       "      <td>boy</td>\n",
       "    </tr>\n",
       "    <tr>\n",
       "      <th>8</th>\n",
       "      <td>1880</td>\n",
       "      <td>Henry</td>\n",
       "      <td>0.020641</td>\n",
       "      <td>boy</td>\n",
       "    </tr>\n",
       "    <tr>\n",
       "      <th>9</th>\n",
       "      <td>1880</td>\n",
       "      <td>Robert</td>\n",
       "      <td>0.020404</td>\n",
       "      <td>boy</td>\n",
       "    </tr>\n",
       "  </tbody>\n",
       "</table>\n",
       "</div>"
      ],
      "text/plain": [
       "   year     name   percent gender\n",
       "0  1880     John  0.081541    boy\n",
       "1  1880  William  0.080511    boy\n",
       "2  1880    James  0.050057    boy\n",
       "3  1880  Charles  0.045167    boy\n",
       "4  1880   George  0.043292    boy\n",
       "5  1880    Frank  0.027380    boy\n",
       "6  1880   Joseph  0.022229    boy\n",
       "7  1880   Thomas  0.021401    boy\n",
       "8  1880    Henry  0.020641    boy\n",
       "9  1880   Robert  0.020404    boy"
      ]
     },
     "execution_count": 158,
     "metadata": {},
     "output_type": "execute_result"
    }
   ],
   "source": [
    "names_df.head(10)\n",
    "\n",
    "# Try chaning the .head call. Can you create a different dataframe as a subset of a\n",
    "# portion of just the original one?"
   ]
  },
  {
   "cell_type": "code",
   "execution_count": 159,
   "metadata": {},
   "outputs": [
    {
     "data": {
      "text/plain": [
       "258000"
      ]
     },
     "execution_count": 159,
     "metadata": {},
     "output_type": "execute_result"
    }
   ],
   "source": [
    "len(names_df)"
   ]
  },
  {
   "cell_type": "markdown",
   "metadata": {},
   "source": [
    "From exploring the data, we can see that this dataset includes information about 258,000 popular names according to the population percentage given the name each year sorted by gender. \n",
    "\n",
    "## Analyzing Data\n",
    "We can ask questions about this dataset and look for answers using pandas. Let's see how many years are included in the dataset."
   ]
  },
  {
   "cell_type": "code",
   "execution_count": 160,
   "metadata": {},
   "outputs": [
    {
     "name": "stdout",
     "output_type": "stream",
     "text": [
      "<class 'pandas.core.series.Series'>\n"
     ]
    }
   ],
   "source": [
    "# First we isolate the column including information about each year\n",
    "years = names_df['year']\n",
    "\n",
    "# Selecting a series like this returns a pandas object called a series\n",
    "print (type(years))"
   ]
  },
  {
   "cell_type": "code",
   "execution_count": 161,
   "metadata": {},
   "outputs": [
    {
     "name": "stdout",
     "output_type": "stream",
     "text": [
      "1880\n",
      "1880\n"
     ]
    }
   ],
   "source": [
    "# Now we find the minimum value in that column, using the .min() command\n",
    "years.min()\n",
    "print (years.min())\n",
    "\n",
    "# You can also cast the pandas series object as a list\n",
    "print (min(list(years)))"
   ]
  },
  {
   "cell_type": "markdown",
   "metadata": {},
   "source": [
    "Now we can look at different ways of manipulating this dataset!"
   ]
  },
  {
   "cell_type": "code",
   "execution_count": 162,
   "metadata": {},
   "outputs": [
    {
     "data": {
      "text/plain": [
       "0.0008944713333333334"
      ]
     },
     "execution_count": 162,
     "metadata": {},
     "output_type": "execute_result"
    }
   ],
   "source": [
    "names_df['percent'].mean()"
   ]
  },
  {
   "cell_type": "code",
   "execution_count": 163,
   "metadata": {},
   "outputs": [
    {
     "data": {
      "text/plain": [
       "0.000164"
      ]
     },
     "execution_count": 163,
     "metadata": {},
     "output_type": "execute_result"
    }
   ],
   "source": [
    "names_df['percent'].median()"
   ]
  },
  {
   "cell_type": "code",
   "execution_count": 164,
   "metadata": {},
   "outputs": [
    {
     "data": {
      "text/plain": [
       "0    0.000051\n",
       "Name: percent, dtype: float64"
      ]
     },
     "execution_count": 164,
     "metadata": {},
     "output_type": "execute_result"
    }
   ],
   "source": [
    "names_df['percent'].mode()"
   ]
  },
  {
   "cell_type": "markdown",
   "metadata": {},
   "source": [
    "We'll dive more into the difference between mean, median and mode later in the summer. For the final part of this tutorial, we'll look at dividing the data into subsets. Maybe your study is only interested in exploring the most popular names given to baby girls in the 1960s."
   ]
  },
  {
   "cell_type": "code",
   "execution_count": 165,
   "metadata": {},
   "outputs": [],
   "source": [
    "subset = names_df.loc[(years >= 1960) & (years < 1970) & (names_df['gender'] == 'girl')]"
   ]
  },
  {
   "cell_type": "markdown",
   "metadata": {},
   "source": [
    "How do you view the first 12 lines of this subset?"
   ]
  },
  {
   "cell_type": "code",
   "execution_count": 166,
   "metadata": {},
   "outputs": [
    {
     "data": {
      "text/html": [
       "<div>\n",
       "<style scoped>\n",
       "    .dataframe tbody tr th:only-of-type {\n",
       "        vertical-align: middle;\n",
       "    }\n",
       "\n",
       "    .dataframe tbody tr th {\n",
       "        vertical-align: top;\n",
       "    }\n",
       "\n",
       "    .dataframe thead th {\n",
       "        text-align: right;\n",
       "    }\n",
       "</style>\n",
       "<table border=\"1\" class=\"dataframe\">\n",
       "  <thead>\n",
       "    <tr style=\"text-align: right;\">\n",
       "      <th></th>\n",
       "      <th>year</th>\n",
       "      <th>name</th>\n",
       "      <th>percent</th>\n",
       "      <th>gender</th>\n",
       "    </tr>\n",
       "  </thead>\n",
       "  <tbody>\n",
       "    <tr>\n",
       "      <th>209000</th>\n",
       "      <td>1960</td>\n",
       "      <td>Mary</td>\n",
       "      <td>0.024750</td>\n",
       "      <td>girl</td>\n",
       "    </tr>\n",
       "    <tr>\n",
       "      <th>209001</th>\n",
       "      <td>1960</td>\n",
       "      <td>Susan</td>\n",
       "      <td>0.018846</td>\n",
       "      <td>girl</td>\n",
       "    </tr>\n",
       "    <tr>\n",
       "      <th>209002</th>\n",
       "      <td>1960</td>\n",
       "      <td>Linda</td>\n",
       "      <td>0.017942</td>\n",
       "      <td>girl</td>\n",
       "    </tr>\n",
       "    <tr>\n",
       "      <th>209003</th>\n",
       "      <td>1960</td>\n",
       "      <td>Karen</td>\n",
       "      <td>0.017494</td>\n",
       "      <td>girl</td>\n",
       "    </tr>\n",
       "    <tr>\n",
       "      <th>209004</th>\n",
       "      <td>1960</td>\n",
       "      <td>Donna</td>\n",
       "      <td>0.016410</td>\n",
       "      <td>girl</td>\n",
       "    </tr>\n",
       "    <tr>\n",
       "      <th>209005</th>\n",
       "      <td>1960</td>\n",
       "      <td>Lisa</td>\n",
       "      <td>0.016207</td>\n",
       "      <td>girl</td>\n",
       "    </tr>\n",
       "    <tr>\n",
       "      <th>209006</th>\n",
       "      <td>1960</td>\n",
       "      <td>Patricia</td>\n",
       "      <td>0.015435</td>\n",
       "      <td>girl</td>\n",
       "    </tr>\n",
       "    <tr>\n",
       "      <th>209007</th>\n",
       "      <td>1960</td>\n",
       "      <td>Debra</td>\n",
       "      <td>0.012855</td>\n",
       "      <td>girl</td>\n",
       "    </tr>\n",
       "    <tr>\n",
       "      <th>209008</th>\n",
       "      <td>1960</td>\n",
       "      <td>Cynthia</td>\n",
       "      <td>0.012847</td>\n",
       "      <td>girl</td>\n",
       "    </tr>\n",
       "    <tr>\n",
       "      <th>209009</th>\n",
       "      <td>1960</td>\n",
       "      <td>Deborah</td>\n",
       "      <td>0.012149</td>\n",
       "      <td>girl</td>\n",
       "    </tr>\n",
       "    <tr>\n",
       "      <th>209010</th>\n",
       "      <td>1960</td>\n",
       "      <td>Sandra</td>\n",
       "      <td>0.011815</td>\n",
       "      <td>girl</td>\n",
       "    </tr>\n",
       "    <tr>\n",
       "      <th>209011</th>\n",
       "      <td>1960</td>\n",
       "      <td>Barbara</td>\n",
       "      <td>0.011757</td>\n",
       "      <td>girl</td>\n",
       "    </tr>\n",
       "  </tbody>\n",
       "</table>\n",
       "</div>"
      ],
      "text/plain": [
       "        year      name   percent gender\n",
       "209000  1960      Mary  0.024750   girl\n",
       "209001  1960     Susan  0.018846   girl\n",
       "209002  1960     Linda  0.017942   girl\n",
       "209003  1960     Karen  0.017494   girl\n",
       "209004  1960     Donna  0.016410   girl\n",
       "209005  1960      Lisa  0.016207   girl\n",
       "209006  1960  Patricia  0.015435   girl\n",
       "209007  1960     Debra  0.012855   girl\n",
       "209008  1960   Cynthia  0.012847   girl\n",
       "209009  1960   Deborah  0.012149   girl\n",
       "209010  1960    Sandra  0.011815   girl\n",
       "209011  1960   Barbara  0.011757   girl"
      ]
     },
     "execution_count": 166,
     "metadata": {},
     "output_type": "execute_result"
    }
   ],
   "source": [
    "subset.head(12)"
   ]
  },
  {
   "cell_type": "markdown",
   "metadata": {},
   "source": [
    "Let's sort our subset by percentage popularity."
   ]
  },
  {
   "cell_type": "code",
   "execution_count": 167,
   "metadata": {},
   "outputs": [
    {
     "data": {
      "text/html": [
       "<div>\n",
       "<style scoped>\n",
       "    .dataframe tbody tr th:only-of-type {\n",
       "        vertical-align: middle;\n",
       "    }\n",
       "\n",
       "    .dataframe tbody tr th {\n",
       "        vertical-align: top;\n",
       "    }\n",
       "\n",
       "    .dataframe thead th {\n",
       "        text-align: right;\n",
       "    }\n",
       "</style>\n",
       "<table border=\"1\" class=\"dataframe\">\n",
       "  <thead>\n",
       "    <tr style=\"text-align: right;\">\n",
       "      <th></th>\n",
       "      <th>year</th>\n",
       "      <th>name</th>\n",
       "      <th>percent</th>\n",
       "      <th>gender</th>\n",
       "    </tr>\n",
       "  </thead>\n",
       "  <tbody>\n",
       "    <tr>\n",
       "      <th>214000</th>\n",
       "      <td>1965</td>\n",
       "      <td>Lisa</td>\n",
       "      <td>0.032982</td>\n",
       "      <td>girl</td>\n",
       "    </tr>\n",
       "    <tr>\n",
       "      <th>215000</th>\n",
       "      <td>1966</td>\n",
       "      <td>Lisa</td>\n",
       "      <td>0.032416</td>\n",
       "      <td>girl</td>\n",
       "    </tr>\n",
       "    <tr>\n",
       "      <th>216000</th>\n",
       "      <td>1967</td>\n",
       "      <td>Lisa</td>\n",
       "      <td>0.030539</td>\n",
       "      <td>girl</td>\n",
       "    </tr>\n",
       "    <tr>\n",
       "      <th>217000</th>\n",
       "      <td>1968</td>\n",
       "      <td>Lisa</td>\n",
       "      <td>0.028974</td>\n",
       "      <td>girl</td>\n",
       "    </tr>\n",
       "    <tr>\n",
       "      <th>212000</th>\n",
       "      <td>1963</td>\n",
       "      <td>Lisa</td>\n",
       "      <td>0.028189</td>\n",
       "      <td>girl</td>\n",
       "    </tr>\n",
       "    <tr>\n",
       "      <th>...</th>\n",
       "      <td>...</td>\n",
       "      <td>...</td>\n",
       "      <td>...</td>\n",
       "      <td>...</td>\n",
       "    </tr>\n",
       "    <tr>\n",
       "      <th>209994</th>\n",
       "      <td>1960</td>\n",
       "      <td>Keely</td>\n",
       "      <td>0.000056</td>\n",
       "      <td>girl</td>\n",
       "    </tr>\n",
       "    <tr>\n",
       "      <th>209993</th>\n",
       "      <td>1960</td>\n",
       "      <td>Caron</td>\n",
       "      <td>0.000056</td>\n",
       "      <td>girl</td>\n",
       "    </tr>\n",
       "    <tr>\n",
       "      <th>209992</th>\n",
       "      <td>1960</td>\n",
       "      <td>Carlotta</td>\n",
       "      <td>0.000056</td>\n",
       "      <td>girl</td>\n",
       "    </tr>\n",
       "    <tr>\n",
       "      <th>209991</th>\n",
       "      <td>1960</td>\n",
       "      <td>Bev</td>\n",
       "      <td>0.000056</td>\n",
       "      <td>girl</td>\n",
       "    </tr>\n",
       "    <tr>\n",
       "      <th>209999</th>\n",
       "      <td>1960</td>\n",
       "      <td>Anastasia</td>\n",
       "      <td>0.000055</td>\n",
       "      <td>girl</td>\n",
       "    </tr>\n",
       "  </tbody>\n",
       "</table>\n",
       "<p>10000 rows × 4 columns</p>\n",
       "</div>"
      ],
      "text/plain": [
       "        year       name   percent gender\n",
       "214000  1965       Lisa  0.032982   girl\n",
       "215000  1966       Lisa  0.032416   girl\n",
       "216000  1967       Lisa  0.030539   girl\n",
       "217000  1968       Lisa  0.028974   girl\n",
       "212000  1963       Lisa  0.028189   girl\n",
       "...      ...        ...       ...    ...\n",
       "209994  1960      Keely  0.000056   girl\n",
       "209993  1960      Caron  0.000056   girl\n",
       "209992  1960   Carlotta  0.000056   girl\n",
       "209991  1960        Bev  0.000056   girl\n",
       "209999  1960  Anastasia  0.000055   girl\n",
       "\n",
       "[10000 rows x 4 columns]"
      ]
     },
     "execution_count": 167,
     "metadata": {},
     "output_type": "execute_result"
    }
   ],
   "source": [
    "subset.sort_values(by='percent', ascending=False)"
   ]
  },
  {
   "cell_type": "markdown",
   "metadata": {},
   "source": [
    "## Assignment"
   ]
  },
  {
   "cell_type": "markdown",
   "metadata": {},
   "source": [
    "Can you make a histogram of the percentage popularity of the name Lisa during the 1960s?"
   ]
  },
  {
   "cell_type": "code",
   "execution_count": 168,
   "metadata": {},
   "outputs": [],
   "source": [
    "# HINT: It's very useful to break coding down into written steps and then complete each step one by one.\n",
    "\n",
    "# Here is a sample of the first step that I might write\n",
    "# Step 1: Create a subset of the name Lisa in the 1960s.\n",
    "# Step 2: ...\n",
    "# ..."
   ]
  },
  {
   "cell_type": "code",
   "execution_count": 169,
   "metadata": {},
   "outputs": [
    {
     "data": {
      "text/plain": [
       "(array([10.,  0.,  0.,  0.,  1.,  0.,  2.,  1.,  3.,  3.]),\n",
       " array([3.80000e-05, 3.33240e-03, 6.62680e-03, 9.92120e-03, 1.32156e-02,\n",
       "        1.65100e-02, 1.98044e-02, 2.30988e-02, 2.63932e-02, 2.96876e-02,\n",
       "        3.29820e-02]),\n",
       " <BarContainer object of 10 artists>)"
      ]
     },
     "execution_count": 169,
     "metadata": {},
     "output_type": "execute_result"
    },
    {
     "data": {
      "image/png": "[encoded data removed]",
      "text/plain": [
       "<Figure size 640x480 with 1 Axes>"
      ]
     },
     "metadata": {},
     "output_type": "display_data"
    }
   ],
   "source": [
    "subset1 = names_df.loc[(names_df['year'] >= 1960) & (names_df['year'] < 1970) &(names_df['name']=='Lisa')]\n",
    "plt.hist(subset1['percent'])"
   ]
  },
  {
   "cell_type": "markdown",
   "metadata": {},
   "source": [
    "Can you make a histogram of the percentage popularity of the name Mary during the 1960s?"
   ]
  },
  {
   "cell_type": "code",
   "execution_count": 170,
   "metadata": {},
   "outputs": [
    {
     "data": {
      "text/plain": [
       "(array([10.,  0.,  0.,  0.,  1.,  2.,  1.,  1.,  3.,  2.]),\n",
       " array([5.70000e-05, 2.52630e-03, 4.99560e-03, 7.46490e-03, 9.93420e-03,\n",
       "        1.24035e-02, 1.48728e-02, 1.73421e-02, 1.98114e-02, 2.22807e-02,\n",
       "        2.47500e-02]),\n",
       " <BarContainer object of 10 artists>)"
      ]
     },
     "execution_count": 170,
     "metadata": {},
     "output_type": "execute_result"
    },
    {
     "data": {
      "image/png": "[encoded data removed]",
      "text/plain": [
       "<Figure size 640x480 with 1 Axes>"
      ]
     },
     "metadata": {},
     "output_type": "display_data"
    }
   ],
   "source": [
    "subset2 = names_df.loc[(names_df['year'] >= 1960) & (names_df['year'] < 1970) &(names_df['name']=='Mary')]\n",
    "plt.hist(subset2['percent'])"
   ]
  },
  {
   "cell_type": "markdown",
   "metadata": {},
   "source": [
    "Now can you plot them on the same histogram?"
   ]
  },
  {
   "cell_type": "code",
   "execution_count": 171,
   "metadata": {},
   "outputs": [
    {
     "data": {
      "image/png": "[encoded data removed]",
      "text/plain": [
       "<Figure size 640x480 with 1 Axes>"
      ]
     },
     "metadata": {},
     "output_type": "display_data"
    }
   ],
   "source": [
    "plt.hist(subset1['percent'], bins=10, alpha=0.5, label='Lisa')\n",
    "plt.hist(subset2['percent'], bins=10, alpha=0.5, label='Mary')\n",
    "\n",
    "plt.xlabel('Percent')\n",
    "plt.ylabel('Frequency')\n",
    "plt.title('Histogram of Percent for Lisa and Mary (1960-1969)')\n",
    "plt.legend()\n",
    "\n",
    "# Show the plot\n",
    "plt.show()"
   ]
  },
  {
   "cell_type": "markdown",
   "metadata": {},
   "source": [
    "Please save the csv file of the subset that you created. Scroll to the bottom of [this documentation](https://pandas.pydata.org/pandas-docs/stable/reference/api/pandas.DataFrame.to_csv.html) to find out how. Once you've completed Ryan's matplotlib tutorial, come back to this one and save a .png of your final histogram too!"
   ]
  },
  {
   "cell_type": "code",
   "execution_count": 172,
   "metadata": {},
   "outputs": [],
   "source": [
    "subset1=pd.DataFrame()\n",
    "subset1.to_csv('subset1.csv')\n",
    "subset2=pd.DataFrame()\n",
    "subset2.to_csv('subset2.csv')\n"
   ]
  },
  {
   "cell_type": "markdown",
   "metadata": {},
   "source": [
    "## Challenge Assignment"
   ]
  },
  {
   "cell_type": "markdown",
   "metadata": {},
   "source": [
    "Some names remained popular throughout a decade and some names were only popular for a year or two. 183 of the most popular names in the 1980s were only popular for a year. What were the first five most popular one hit wonders of the 1980s?\n",
    "\n",
    "We did not go over all the commands that you need to answer this question. Never fear! The internet can be your trusty guide. Head over to https://stackoverflow.com/ and use the pandas documentation to answer this question. Bonus pandas points if you can answer the question in one line of code!"
   ]
  },
  {
   "cell_type": "code",
   "execution_count": 173,
   "metadata": {},
   "outputs": [
    {
     "data": {
      "text/html": [
       "<div>\n",
       "<style scoped>\n",
       "    .dataframe tbody tr th:only-of-type {\n",
       "        vertical-align: middle;\n",
       "    }\n",
       "\n",
       "    .dataframe tbody tr th {\n",
       "        vertical-align: top;\n",
       "    }\n",
       "\n",
       "    .dataframe thead th {\n",
       "        text-align: right;\n",
       "    }\n",
       "</style>\n",
       "<table border=\"1\" class=\"dataframe\">\n",
       "  <thead>\n",
       "    <tr style=\"text-align: right;\">\n",
       "      <th></th>\n",
       "      <th>year</th>\n",
       "      <th>name</th>\n",
       "      <th>percent</th>\n",
       "      <th>gender</th>\n",
       "    </tr>\n",
       "  </thead>\n",
       "  <tbody>\n",
       "    <tr>\n",
       "      <th>109240</th>\n",
       "      <td>1989</td>\n",
       "      <td>Christop</td>\n",
       "      <td>0.000517</td>\n",
       "      <td>boy</td>\n",
       "    </tr>\n",
       "    <tr>\n",
       "      <th>238523</th>\n",
       "      <td>1989</td>\n",
       "      <td>Elizabet</td>\n",
       "      <td>0.000223</td>\n",
       "      <td>girl</td>\n",
       "    </tr>\n",
       "    <tr>\n",
       "      <th>238567</th>\n",
       "      <td>1989</td>\n",
       "      <td>Infant</td>\n",
       "      <td>0.000197</td>\n",
       "      <td>girl</td>\n",
       "    </tr>\n",
       "    <tr>\n",
       "      <th>235580</th>\n",
       "      <td>1986</td>\n",
       "      <td>Halley</td>\n",
       "      <td>0.000180</td>\n",
       "      <td>girl</td>\n",
       "    </tr>\n",
       "    <tr>\n",
       "      <th>109491</th>\n",
       "      <td>1989</td>\n",
       "      <td>Infant</td>\n",
       "      <td>0.000179</td>\n",
       "      <td>boy</td>\n",
       "    </tr>\n",
       "  </tbody>\n",
       "</table>\n",
       "</div>"
      ],
      "text/plain": [
       "        year      name   percent gender\n",
       "109240  1989  Christop  0.000517    boy\n",
       "238523  1989  Elizabet  0.000223   girl\n",
       "238567  1989    Infant  0.000197   girl\n",
       "235580  1986    Halley  0.000180   girl\n",
       "109491  1989    Infant  0.000179    boy"
      ]
     },
     "execution_count": 173,
     "metadata": {},
     "output_type": "execute_result"
    }
   ],
   "source": [
    "df_1980s = names_df[(names_df['year'] >= 1980) & (names_df['year'] < 1990)]\n",
    "\n",
    "name_counts = df_1980s.groupby('name')['year'].nunique()\n",
    "\n",
    "one_hit_wonders = name_counts[name_counts == 1].index\n",
    "\n",
    "one_hit_wonders_df = df_1980s[df_1980s['name'].isin(one_hit_wonders)]\n",
    "\n",
    "top_one_hit_wonders = one_hit_wonders_df.sort_values(by='percent', ascending=False).head(5)\n",
    "\n",
    "top_one_hit_wonders"
   ]
  },
  {
   "cell_type": "markdown",
   "metadata": {},
   "source": [
    "What is the distribution of the count of one hit wonder names over time during the 1980s? Please save your histogram as a .png file."
   ]
  },
  {
   "cell_type": "code",
   "execution_count": 174,
   "metadata": {},
   "outputs": [
    {
     "data": {
      "image/png": "[encoded data removed]",
      "text/plain": [
       "<Figure size 640x480 with 1 Axes>"
      ]
     },
     "metadata": {},
     "output_type": "display_data"
    }
   ],
   "source": [
    "top_one_hit_wonders.plot(kind='bar', color='skyblue')\n",
    "plt.xlabel('Year')\n",
    "plt.ylabel('Number of One-Hit Wonders')\n",
    "plt.title('Distribution of One-Hit Wonder Names Over Time During the 1980s')\n",
    "plt.show()"
   ]
  },
  {
   "cell_type": "markdown",
   "metadata": {},
   "source": [
    "Now merge this 1980s dataframe with the overall dataset. Can you figure out a way to only keep the names that are popular in and beyond the 1980s in this merge? Write a l"
   ]
  },
  {
   "cell_type": "code",
   "execution_count": null,
   "metadata": {},
   "outputs": [],
   "source": []
  }
 ],
 "metadata": {
  "kernelspec": {
   "display_name": "Python 3 (ipykernel)",
   "language": "python",
   "name": "python3"
  },
  "language_info": {
   "codemirror_mode": {
    "name": "ipython",
    "version": 3
   },
   "file_extension": ".py",
   "mimetype": "text/x-python",
   "name": "python",
   "nbconvert_exporter": "python",
   "pygments_lexer": "ipython3",
   "version": "3.11.7"
  }
 },
 "nbformat": 4,
 "nbformat_minor": 4
}
